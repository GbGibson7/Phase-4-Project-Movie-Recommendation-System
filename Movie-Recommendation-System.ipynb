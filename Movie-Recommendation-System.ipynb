{
 "cells": [
  {
   "cell_type": "markdown",
   "id": "599c2259-acc4-48de-a0d8-438dc26dec71",
   "metadata": {},
   "source": [
    "### Importing Necessary Libraries"
   ]
  },
  {
   "cell_type": "code",
   "execution_count": 1,
   "id": "3b4a8e7f-a1e2-4436-bbe3-99b6bb6c1381",
   "metadata": {},
   "outputs": [],
   "source": [
    "import pandas as pd\n",
    "import numpy as np\n",
    "import matplotlib.pyplot as plt\n",
    "import seaborn as sns"
   ]
  },
  {
   "cell_type": "markdown",
   "id": "a7148fd0-ec2c-46c4-ae8b-e86816ff7ea1",
   "metadata": {},
   "source": [
    "### Loading Data"
   ]
  },
  {
   "cell_type": "code",
   "execution_count": 2,
   "id": "be121da2-d2d3-4db2-b519-87787497b197",
   "metadata": {},
   "outputs": [],
   "source": [
    "# Reading into the data\n",
    "movies_df = pd.read_csv(\"data/movies.csv\") \n",
    "ratings_df = pd.read_csv(\"data/ratings.csv\") \n",
    "links_df = pd.read_csv(\"data/links.csv\") \n",
    "tags_df = pd.read_csv(\"data/tags.csv\")"
   ]
  },
  {
   "cell_type": "code",
   "execution_count": 3,
   "id": "bf2f73e3-def7-42f9-95f9-41750bbe7e2d",
   "metadata": {},
   "outputs": [
    {
     "name": "stdout",
     "output_type": "stream",
     "text": [
      "---Initial Data Preview---\n",
      "The movies are:\n",
      "      movieId                                      title  \\\n",
      "0           1                           Toy Story (1995)   \n",
      "1           2                             Jumanji (1995)   \n",
      "2           3                    Grumpier Old Men (1995)   \n",
      "3           4                   Waiting to Exhale (1995)   \n",
      "4           5         Father of the Bride Part II (1995)   \n",
      "...       ...                                        ...   \n",
      "9737   193581  Black Butler: Book of the Atlantic (2017)   \n",
      "9738   193583               No Game No Life: Zero (2017)   \n",
      "9739   193585                               Flint (2017)   \n",
      "9740   193587        Bungo Stray Dogs: Dead Apple (2018)   \n",
      "9741   193609        Andrew Dice Clay: Dice Rules (1991)   \n",
      "\n",
      "                                           genres  \n",
      "0     Adventure|Animation|Children|Comedy|Fantasy  \n",
      "1                      Adventure|Children|Fantasy  \n",
      "2                                  Comedy|Romance  \n",
      "3                            Comedy|Drama|Romance  \n",
      "4                                          Comedy  \n",
      "...                                           ...  \n",
      "9737              Action|Animation|Comedy|Fantasy  \n",
      "9738                     Animation|Comedy|Fantasy  \n",
      "9739                                        Drama  \n",
      "9740                             Action|Animation  \n",
      "9741                                       Comedy  \n",
      "\n",
      "[9742 rows x 3 columns]\n",
      "The ratings are:\n",
      "        userId  movieId  rating   timestamp\n",
      "0            1        1     4.0   964982703\n",
      "1            1        3     4.0   964981247\n",
      "2            1        6     4.0   964982224\n",
      "3            1       47     5.0   964983815\n",
      "4            1       50     5.0   964982931\n",
      "...        ...      ...     ...         ...\n",
      "100831     610   166534     4.0  1493848402\n",
      "100832     610   168248     5.0  1493850091\n",
      "100833     610   168250     5.0  1494273047\n",
      "100834     610   168252     5.0  1493846352\n",
      "100835     610   170875     3.0  1493846415\n",
      "\n",
      "[100836 rows x 4 columns]\n",
      "The links are:\n",
      "      movieId   imdbId    tmdbId\n",
      "0           1   114709     862.0\n",
      "1           2   113497    8844.0\n",
      "2           3   113228   15602.0\n",
      "3           4   114885   31357.0\n",
      "4           5   113041   11862.0\n",
      "...       ...      ...       ...\n",
      "9737   193581  5476944  432131.0\n",
      "9738   193583  5914996  445030.0\n",
      "9739   193585  6397426  479308.0\n",
      "9740   193587  8391976  483455.0\n",
      "9741   193609   101726   37891.0\n",
      "\n",
      "[9742 rows x 3 columns]\n",
      "The tags are:\n",
      "      userId  movieId               tag   timestamp\n",
      "0          2    60756             funny  1445714994\n",
      "1          2    60756   Highly quotable  1445714996\n",
      "2          2    60756      will ferrell  1445714992\n",
      "3          2    89774      Boxing story  1445715207\n",
      "4          2    89774               MMA  1445715200\n",
      "...      ...      ...               ...         ...\n",
      "3678     606     7382         for katie  1171234019\n",
      "3679     606     7936           austere  1173392334\n",
      "3680     610     3265            gun fu  1493843984\n",
      "3681     610     3265  heroic bloodshed  1493843978\n",
      "3682     610   168248  Heroic Bloodshed  1493844270\n",
      "\n",
      "[3683 rows x 4 columns]\n"
     ]
    }
   ],
   "source": [
    "print(\"---Initial Data Preview---\")\n",
    "print(f\"The movies are:\\n{movies_df}\")\n",
    "print(f\"The ratings are:\\n{ratings_df}\")\n",
    "print(f\"The links are:\\n{links_df}\")\n",
    "print(f\"The tags are:\\n{tags_df}\")"
   ]
  },
  {
   "cell_type": "markdown",
   "id": "2d6f4603-91d5-44b4-af42-e76dcac73cfc",
   "metadata": {},
   "source": [
    "- Movies_df has 9,742 movies with 3 columns of Movie IDs, titles, and genres.\n",
    "- Ratings_df has 100,836 ratings with 4 columns of User IDs, movie IDs, ratings (0.5–5.0), and timestamps.\n",
    "- links_df has 9,742 links which Maps movie IDs to imdbId and tmdbId for external database links.\n",
    "- Tags_df has 3,683 tags---> User-generated tags (text) for movies."
   ]
  },
  {
   "cell_type": "markdown",
   "id": "02e3658f-ad4a-46fc-9405-8fa26bda3502",
   "metadata": {},
   "source": [
    "### Merging the Dataframes"
   ]
  },
  {
   "cell_type": "code",
   "execution_count": 4,
   "id": "ebb4acdf-2a6b-4b96-b91a-f7c26eccd347",
   "metadata": {},
   "outputs": [
    {
     "data": {
      "text/html": [
       "<div>\n",
       "<style scoped>\n",
       "    .dataframe tbody tr th:only-of-type {\n",
       "        vertical-align: middle;\n",
       "    }\n",
       "\n",
       "    .dataframe tbody tr th {\n",
       "        vertical-align: top;\n",
       "    }\n",
       "\n",
       "    .dataframe thead th {\n",
       "        text-align: right;\n",
       "    }\n",
       "</style>\n",
       "<table border=\"1\" class=\"dataframe\">\n",
       "  <thead>\n",
       "    <tr style=\"text-align: right;\">\n",
       "      <th></th>\n",
       "      <th>movieId</th>\n",
       "      <th>title</th>\n",
       "      <th>genres</th>\n",
       "      <th>userId</th>\n",
       "      <th>rating</th>\n",
       "      <th>timestamp</th>\n",
       "    </tr>\n",
       "  </thead>\n",
       "  <tbody>\n",
       "    <tr>\n",
       "      <th>0</th>\n",
       "      <td>1</td>\n",
       "      <td>Toy Story (1995)</td>\n",
       "      <td>Adventure|Animation|Children|Comedy|Fantasy</td>\n",
       "      <td>1</td>\n",
       "      <td>4.0</td>\n",
       "      <td>964982703</td>\n",
       "    </tr>\n",
       "    <tr>\n",
       "      <th>1</th>\n",
       "      <td>1</td>\n",
       "      <td>Toy Story (1995)</td>\n",
       "      <td>Adventure|Animation|Children|Comedy|Fantasy</td>\n",
       "      <td>5</td>\n",
       "      <td>4.0</td>\n",
       "      <td>847434962</td>\n",
       "    </tr>\n",
       "    <tr>\n",
       "      <th>2</th>\n",
       "      <td>1</td>\n",
       "      <td>Toy Story (1995)</td>\n",
       "      <td>Adventure|Animation|Children|Comedy|Fantasy</td>\n",
       "      <td>7</td>\n",
       "      <td>4.5</td>\n",
       "      <td>1106635946</td>\n",
       "    </tr>\n",
       "    <tr>\n",
       "      <th>3</th>\n",
       "      <td>1</td>\n",
       "      <td>Toy Story (1995)</td>\n",
       "      <td>Adventure|Animation|Children|Comedy|Fantasy</td>\n",
       "      <td>15</td>\n",
       "      <td>2.5</td>\n",
       "      <td>1510577970</td>\n",
       "    </tr>\n",
       "    <tr>\n",
       "      <th>4</th>\n",
       "      <td>1</td>\n",
       "      <td>Toy Story (1995)</td>\n",
       "      <td>Adventure|Animation|Children|Comedy|Fantasy</td>\n",
       "      <td>17</td>\n",
       "      <td>4.5</td>\n",
       "      <td>1305696483</td>\n",
       "    </tr>\n",
       "  </tbody>\n",
       "</table>\n",
       "</div>"
      ],
      "text/plain": [
       "   movieId             title                                       genres  \\\n",
       "0        1  Toy Story (1995)  Adventure|Animation|Children|Comedy|Fantasy   \n",
       "1        1  Toy Story (1995)  Adventure|Animation|Children|Comedy|Fantasy   \n",
       "2        1  Toy Story (1995)  Adventure|Animation|Children|Comedy|Fantasy   \n",
       "3        1  Toy Story (1995)  Adventure|Animation|Children|Comedy|Fantasy   \n",
       "4        1  Toy Story (1995)  Adventure|Animation|Children|Comedy|Fantasy   \n",
       "\n",
       "   userId  rating   timestamp  \n",
       "0       1     4.0   964982703  \n",
       "1       5     4.0   847434962  \n",
       "2       7     4.5  1106635946  \n",
       "3      15     2.5  1510577970  \n",
       "4      17     4.5  1305696483  "
      ]
     },
     "execution_count": 4,
     "metadata": {},
     "output_type": "execute_result"
    }
   ],
   "source": [
    "# merging movies and ratings\n",
    "df = pd.merge(movies_df, ratings_df, on='movieId')\n",
    "df.head()"
   ]
  },
  {
   "cell_type": "code",
   "execution_count": 5,
   "id": "ea6c7f44-03b3-4cf4-977c-2141afefd903",
   "metadata": {},
   "outputs": [
    {
     "name": "stdout",
     "output_type": "stream",
     "text": [
      "<class 'pandas.core.frame.DataFrame'>\n",
      "Int64Index: 100836 entries, 0 to 100835\n",
      "Data columns (total 6 columns):\n",
      " #   Column     Non-Null Count   Dtype  \n",
      "---  ------     --------------   -----  \n",
      " 0   movieId    100836 non-null  int64  \n",
      " 1   title      100836 non-null  object \n",
      " 2   genres     100836 non-null  object \n",
      " 3   userId     100836 non-null  int64  \n",
      " 4   rating     100836 non-null  float64\n",
      " 5   timestamp  100836 non-null  int64  \n",
      "dtypes: float64(1), int64(3), object(2)\n",
      "memory usage: 5.4+ MB\n"
     ]
    }
   ],
   "source": [
    "# checking on dataframe info\n",
    "df.info()"
   ]
  },
  {
   "cell_type": "markdown",
   "id": "cbd721a7-1c65-4f18-9a8f-2db6f57f583d",
   "metadata": {},
   "source": [
    "The merged DataFrame, df, contains 100,836 entries (rows) and 6 columns.\n",
    "\n",
    "- No missing values: All columns (movieId, title, genres, userId, rating, timestamp) have 100,836 non-null entries, indicating no missing data after the merge.\n",
    "- Data Types:\n",
    "    - movieId, userId, timestamp are integers (int64).\n",
    "    - rating is a floating-point number (float64).\n",
    "    - title and genres are strings/objects (object).\n",
    "- Memory Usage: The DataFrame consumes approximately 5.4 MB of memory."
   ]
  },
  {
   "cell_type": "code",
   "execution_count": 6,
   "id": "51f7c110-9f3f-4bdc-bb7b-ebdcdf865269",
   "metadata": {},
   "outputs": [
    {
     "data": {
      "text/html": [
       "<div>\n",
       "<style scoped>\n",
       "    .dataframe tbody tr th:only-of-type {\n",
       "        vertical-align: middle;\n",
       "    }\n",
       "\n",
       "    .dataframe tbody tr th {\n",
       "        vertical-align: top;\n",
       "    }\n",
       "\n",
       "    .dataframe thead th {\n",
       "        text-align: right;\n",
       "    }\n",
       "</style>\n",
       "<table border=\"1\" class=\"dataframe\">\n",
       "  <thead>\n",
       "    <tr style=\"text-align: right;\">\n",
       "      <th></th>\n",
       "      <th>movieId</th>\n",
       "      <th>userId</th>\n",
       "      <th>rating</th>\n",
       "      <th>timestamp</th>\n",
       "    </tr>\n",
       "  </thead>\n",
       "  <tbody>\n",
       "    <tr>\n",
       "      <th>count</th>\n",
       "      <td>100836.000000</td>\n",
       "      <td>100836.000000</td>\n",
       "      <td>100836.000000</td>\n",
       "      <td>1.008360e+05</td>\n",
       "    </tr>\n",
       "    <tr>\n",
       "      <th>mean</th>\n",
       "      <td>19435.295718</td>\n",
       "      <td>326.127564</td>\n",
       "      <td>3.501557</td>\n",
       "      <td>1.205946e+09</td>\n",
       "    </tr>\n",
       "    <tr>\n",
       "      <th>std</th>\n",
       "      <td>35530.987199</td>\n",
       "      <td>182.618491</td>\n",
       "      <td>1.042529</td>\n",
       "      <td>2.162610e+08</td>\n",
       "    </tr>\n",
       "    <tr>\n",
       "      <th>min</th>\n",
       "      <td>1.000000</td>\n",
       "      <td>1.000000</td>\n",
       "      <td>0.500000</td>\n",
       "      <td>8.281246e+08</td>\n",
       "    </tr>\n",
       "    <tr>\n",
       "      <th>25%</th>\n",
       "      <td>1199.000000</td>\n",
       "      <td>177.000000</td>\n",
       "      <td>3.000000</td>\n",
       "      <td>1.019124e+09</td>\n",
       "    </tr>\n",
       "    <tr>\n",
       "      <th>50%</th>\n",
       "      <td>2991.000000</td>\n",
       "      <td>325.000000</td>\n",
       "      <td>3.500000</td>\n",
       "      <td>1.186087e+09</td>\n",
       "    </tr>\n",
       "    <tr>\n",
       "      <th>75%</th>\n",
       "      <td>8122.000000</td>\n",
       "      <td>477.000000</td>\n",
       "      <td>4.000000</td>\n",
       "      <td>1.435994e+09</td>\n",
       "    </tr>\n",
       "    <tr>\n",
       "      <th>max</th>\n",
       "      <td>193609.000000</td>\n",
       "      <td>610.000000</td>\n",
       "      <td>5.000000</td>\n",
       "      <td>1.537799e+09</td>\n",
       "    </tr>\n",
       "  </tbody>\n",
       "</table>\n",
       "</div>"
      ],
      "text/plain": [
       "             movieId         userId         rating     timestamp\n",
       "count  100836.000000  100836.000000  100836.000000  1.008360e+05\n",
       "mean    19435.295718     326.127564       3.501557  1.205946e+09\n",
       "std     35530.987199     182.618491       1.042529  2.162610e+08\n",
       "min         1.000000       1.000000       0.500000  8.281246e+08\n",
       "25%      1199.000000     177.000000       3.000000  1.019124e+09\n",
       "50%      2991.000000     325.000000       3.500000  1.186087e+09\n",
       "75%      8122.000000     477.000000       4.000000  1.435994e+09\n",
       "max    193609.000000     610.000000       5.000000  1.537799e+09"
      ]
     },
     "execution_count": 6,
     "metadata": {},
     "output_type": "execute_result"
    }
   ],
   "source": [
    "# checking on dataframe description\n",
    "df.describe()"
   ]
  },
  {
   "cell_type": "markdown",
   "id": "0d9b1efe-cff1-409d-a44a-82091768cf3c",
   "metadata": {},
   "source": [
    "- movieId: Ranges from 1 to 193609, indicating a wide range of unique movies.\n",
    "- userId: Ranges from 1 to 610, showing there are 610 distinct users in the dataset.\n",
    "- rating: Ratings are on a scale of 0.5 to 5.0, with an average rating of approximately 3.5. The standard deviation of about 1.04 depictss a decent spread in ratings."
   ]
  },
  {
   "cell_type": "markdown",
   "id": "81e2d6a6-fdce-4410-aad9-c5d8c201e6fa",
   "metadata": {},
   "source": [
    "# Exploratory Data Analysis ---> EDA"
   ]
  },
  {
   "cell_type": "markdown",
   "id": "d1e2ce2d-c1a8-4452-9102-6873cc9f525d",
   "metadata": {},
   "source": [
    "### 1. Ratings Distribution"
   ]
  },
  {
   "cell_type": "code",
   "execution_count": 7,
   "id": "1ac69092-2ba4-4d1f-8cf4-d011bae0c4e6",
   "metadata": {},
   "outputs": [
    {
     "data": {
      "text/plain": [
       "0.5     1370\n",
       "1.0     2811\n",
       "1.5     1791\n",
       "2.0     7551\n",
       "2.5     5550\n",
       "3.0    20047\n",
       "3.5    13136\n",
       "4.0    26818\n",
       "4.5     8551\n",
       "5.0    13211\n",
       "Name: rating, dtype: int64"
      ]
     },
     "execution_count": 7,
     "metadata": {},
     "output_type": "execute_result"
    }
   ],
   "source": [
    "# checking how ratings are distributed in the dataframe\n",
    "df['rating'].value_counts().sort_index()"
   ]
  },
  {
   "cell_type": "code",
   "execution_count": 8,
   "id": "8bbf786d-52b0-4d21-8ba2-fafaa1d0d652",
   "metadata": {},
   "outputs": [
    {
     "data": {
      "image/png": "[encoded data removed]",
      "text/plain": [
       "<Figure size 800x500 with 1 Axes>"
      ]
     },
     "metadata": {},
     "output_type": "display_data"
    }
   ],
   "source": [
    "# Visualizing the distribution of ratings\n",
    "plt.figure(figsize=(8, 5))\n",
    "sns.countplot(x='rating', data=df, palette='viridis')\n",
    "plt.title('Distribution of Movie Ratings')\n",
    "plt.xlabel('Rating')\n",
    "plt.ylabel('Number of Ratings')\n",
    "plt.show()"
   ]
  },
  {
   "cell_type": "markdown",
   "id": "ececc929-5aa1-4971-8600-131897630fd6",
   "metadata": {},
   "source": [
    "#### Interpretation\n",
    "The majority of ratings are 4.0 (most frequent), followed by 3.0 and 5.0, showing a strong preference for positive reviews. Ratings of 0.5 and 1.5 are the least common, indicating that users less frequently give very low or half-star ratings. This confirms a general positive bias in user ratings within the dataset."
   ]
  },
  {
   "cell_type": "markdown",
   "id": "a3d17cee-93d0-483d-b706-d582dbd99acf",
   "metadata": {},
   "source": [
    "### 2. Number of Ratings per Movie"
   ]
  },
  {
   "cell_type": "code",
   "execution_count": 9,
   "id": "7463c756-85d8-47ef-9907-9eabd73f6e2e",
   "metadata": {},
   "outputs": [
    {
     "data": {
      "text/plain": [
       "title\n",
       "Forrest Gump (1994)                          329\n",
       "Shawshank Redemption, The (1994)             317\n",
       "Pulp Fiction (1994)                          307\n",
       "Silence of the Lambs, The (1991)             279\n",
       "Matrix, The (1999)                           278\n",
       "Star Wars: Episode IV - A New Hope (1977)    251\n",
       "Jurassic Park (1993)                         238\n",
       "Braveheart (1995)                            237\n",
       "Terminator 2: Judgment Day (1991)            224\n",
       "Schindler's List (1993)                      220\n",
       "Name: rating, dtype: int64"
      ]
     },
     "execution_count": 9,
     "metadata": {},
     "output_type": "execute_result"
    }
   ],
   "source": [
    "# The Top 10 movies by number of ratings in descending order\n",
    "movie_rating_counts = df.groupby('title')['rating'].count().sort_values(ascending=False)\n",
    "movie_rating_counts.head(10)"
   ]
  },
  {
   "cell_type": "markdown",
   "id": "c22624de-2ae2-419d-8de9-877baa3949b5",
   "metadata": {},
   "source": [
    "Forrest Gump (1994), The Shawshank Redemption (1994), and Pulp Fiction (1994) are the most frequently rated movies in this dataset, indicating they are widely seen and popular among users. Lets now visualize in an histogram"
   ]
  },
  {
   "cell_type": "code",
   "execution_count": 10,
   "id": "98087e1f-be45-4aef-9942-222b684756ca",
   "metadata": {},
   "outputs": [
    {
     "data": {
      "image/png": "[encoded data removed]",
      "text/plain": [
       "<Figure size 1200x600 with 1 Axes>"
      ]
     },
     "metadata": {},
     "output_type": "display_data"
    }
   ],
   "source": [
    "# Visualizing the distribution using histogram\n",
    "plt.figure(figsize=(12, 6))\n",
    "movie_rating_counts.hist(bins=60)\n",
    "plt.title('Distribution of Number of Ratings per Movie')\n",
    "plt.xlabel('Number of Ratings')\n",
    "plt.ylabel('Number of Movies')\n",
    "plt.show()"
   ]
  },
  {
   "cell_type": "markdown",
   "id": "f7adca3d-915f-4846-9261-80896254119e",
   "metadata": {},
   "source": [
    "#### Interpretation\n",
    "The histogram of the number of ratings per movie follows a normal distribution, though typically,distributions are right-skewed with a long tail of less-rated movies."
   ]
  },
  {
   "cell_type": "markdown",
   "id": "45233fab-a6f5-4e45-b1aa-651cf531fd38",
   "metadata": {},
   "source": [
    "### 3. Average Rating per Movie"
   ]
  },
  {
   "cell_type": "code",
   "execution_count": 11,
   "id": "c48728bf-fbc9-4127-b397-5a8216791864",
   "metadata": {},
   "outputs": [
    {
     "data": {
      "text/html": [
       "<div>\n",
       "<style scoped>\n",
       "    .dataframe tbody tr th:only-of-type {\n",
       "        vertical-align: middle;\n",
       "    }\n",
       "\n",
       "    .dataframe tbody tr th {\n",
       "        vertical-align: top;\n",
       "    }\n",
       "\n",
       "    .dataframe thead th {\n",
       "        text-align: right;\n",
       "    }\n",
       "</style>\n",
       "<table border=\"1\" class=\"dataframe\">\n",
       "  <thead>\n",
       "    <tr style=\"text-align: right;\">\n",
       "      <th></th>\n",
       "      <th>average_rating</th>\n",
       "      <th>num_ratings</th>\n",
       "    </tr>\n",
       "    <tr>\n",
       "      <th>title</th>\n",
       "      <th></th>\n",
       "      <th></th>\n",
       "    </tr>\n",
       "  </thead>\n",
       "  <tbody>\n",
       "    <tr>\n",
       "      <th>Shawshank Redemption, The (1994)</th>\n",
       "      <td>4.429022</td>\n",
       "      <td>317</td>\n",
       "    </tr>\n",
       "    <tr>\n",
       "      <th>Godfather, The (1972)</th>\n",
       "      <td>4.289062</td>\n",
       "      <td>192</td>\n",
       "    </tr>\n",
       "    <tr>\n",
       "      <th>Fight Club (1999)</th>\n",
       "      <td>4.272936</td>\n",
       "      <td>218</td>\n",
       "    </tr>\n",
       "    <tr>\n",
       "      <th>Cool Hand Luke (1967)</th>\n",
       "      <td>4.271930</td>\n",
       "      <td>57</td>\n",
       "    </tr>\n",
       "    <tr>\n",
       "      <th>Dr. Strangelove or: How I Learned to Stop Worrying and Love the Bomb (1964)</th>\n",
       "      <td>4.268041</td>\n",
       "      <td>97</td>\n",
       "    </tr>\n",
       "    <tr>\n",
       "      <th>Rear Window (1954)</th>\n",
       "      <td>4.261905</td>\n",
       "      <td>84</td>\n",
       "    </tr>\n",
       "    <tr>\n",
       "      <th>Godfather: Part II, The (1974)</th>\n",
       "      <td>4.259690</td>\n",
       "      <td>129</td>\n",
       "    </tr>\n",
       "    <tr>\n",
       "      <th>Departed, The (2006)</th>\n",
       "      <td>4.252336</td>\n",
       "      <td>107</td>\n",
       "    </tr>\n",
       "    <tr>\n",
       "      <th>Goodfellas (1990)</th>\n",
       "      <td>4.250000</td>\n",
       "      <td>126</td>\n",
       "    </tr>\n",
       "    <tr>\n",
       "      <th>Casablanca (1942)</th>\n",
       "      <td>4.240000</td>\n",
       "      <td>100</td>\n",
       "    </tr>\n",
       "  </tbody>\n",
       "</table>\n",
       "</div>"
      ],
      "text/plain": [
       "                                                    average_rating  \\\n",
       "title                                                                \n",
       "Shawshank Redemption, The (1994)                          4.429022   \n",
       "Godfather, The (1972)                                     4.289062   \n",
       "Fight Club (1999)                                         4.272936   \n",
       "Cool Hand Luke (1967)                                     4.271930   \n",
       "Dr. Strangelove or: How I Learned to Stop Worry...        4.268041   \n",
       "Rear Window (1954)                                        4.261905   \n",
       "Godfather: Part II, The (1974)                            4.259690   \n",
       "Departed, The (2006)                                      4.252336   \n",
       "Goodfellas (1990)                                         4.250000   \n",
       "Casablanca (1942)                                         4.240000   \n",
       "\n",
       "                                                    num_ratings  \n",
       "title                                                            \n",
       "Shawshank Redemption, The (1994)                            317  \n",
       "Godfather, The (1972)                                       192  \n",
       "Fight Club (1999)                                           218  \n",
       "Cool Hand Luke (1967)                                        57  \n",
       "Dr. Strangelove or: How I Learned to Stop Worry...           97  \n",
       "Rear Window (1954)                                           84  \n",
       "Godfather: Part II, The (1974)                              129  \n",
       "Departed, The (2006)                                        107  \n",
       "Goodfellas (1990)                                           126  \n",
       "Casablanca (1942)                                           100  "
      ]
     },
     "execution_count": 11,
     "metadata": {},
     "output_type": "execute_result"
    }
   ],
   "source": [
    "# The Top 10 movies by average rating, those with atleast 50 ratings\n",
    "movie_avg_ratings = df.groupby('title')['rating'].mean()\n",
    "\n",
    "# combining average rating with number of ratings\n",
    "ratings_summary = pd.DataFrame({'average_rating': movie_avg_ratings, 'num_ratings': movie_rating_counts})\n",
    "\n",
    "# Filtering out movies with few ratings to avoid misleading high averages from single high rating\n",
    "min_ratings_threshold = 50 # A good threshold we considered for reliable average\n",
    "reliable_movies = ratings_summary[ratings_summary['num_ratings'] >= min_ratings_threshold]\n",
    "\n",
    "# Top 10 reliable movies sorted by average rating in descending order\n",
    "reliable_movies.sort_values(by='average_rating', ascending=False).head(10)"
   ]
  },
  {
   "cell_type": "code",
   "execution_count": 12,
   "id": "8f8df0d7-31b8-46e4-b86e-f539d86c104c",
   "metadata": {},
   "outputs": [
    {
     "data": {
      "image/png": "[encoded data removed]",
      "text/plain": [
       "<Figure size 1200x600 with 1 Axes>"
      ]
     },
     "metadata": {},
     "output_type": "display_data"
    }
   ],
   "source": [
    "# Visualizing the distribution Average Rating with Number of Movies in an histogram\n",
    "plt.figure(figsize=(12, 6))\n",
    "reliable_movies['average_rating'].hist(bins=70)\n",
    "plt.title('Distribution of Average Ratings (Movies with >= {} Ratings)'.format(min_ratings_threshold))\n",
    "plt.xlabel('Average Rating')\n",
    "plt.ylabel('Number of Movies')\n",
    "plt.show()"
   ]
  },
  {
   "cell_type": "markdown",
   "id": "5593ac81-36bb-43d0-97a8-bcc2bd7258f3",
   "metadata": {},
   "source": [
    "The distribution of average ratings vs number of movies follows a nearly-normal distribution despite outliers to the right and to the left. There is more concentration between the ratings of 3.4 and 4.0 depicting that most well-rated movies cluster around this region. \n",
    "\n",
    "The tail points towards lower average ratings with the peak concentrated around higher ratings"
   ]
  },
  {
   "cell_type": "code",
   "execution_count": 13,
   "id": "6a6aa1fd-f45a-493d-8b4d-e9dfa29ab2b0",
   "metadata": {},
   "outputs": [
    {
     "data": {
      "text/plain": [
       "<Figure size 1000x800 with 0 Axes>"
      ]
     },
     "metadata": {},
     "output_type": "display_data"
    },
    {
     "data": {
      "image/png": "[encoded data removed]",
      "text/plain": [
       "<Figure size 600x600 with 3 Axes>"
      ]
     },
     "metadata": {},
     "output_type": "display_data"
    }
   ],
   "source": [
    "### 4. Joint Plot: Average Rating vs. Number of Ratings\n",
    "plt.figure(figsize=(10,8))\n",
    "sns.jointplot(x = 'average_rating', y ='num_ratings', data=ratings_summary, alpha=0.5)\n",
    "plt.suptitle('Average Rating vs. Number of Ratings', y = 1.02) # Adjusting subtitle position\n",
    "plt.show()"
   ]
  },
  {
   "cell_type": "markdown",
   "id": "f2a72512-122e-44c9-a88e-79ed755b5451",
   "metadata": {},
   "source": [
    "The joint plot reveals a funnel-like pattern, as the number of ratings increases, the average ratings tend to converge and become more stable, clustering around a central value.\n",
    "\n",
    "The marginal histograms confirm that most movies have few ratings (a right-skewed distribution), while a smaller subset is extensively rated."
   ]
  },
  {
   "cell_type": "markdown",
   "id": "56964d03-790c-454d-9040-cd90f1ae2bda",
   "metadata": {},
   "source": [
    "### Data Preparation\n",
    "#### Creating Pivot Table with the user-item matrix (Movie-User Matrix).\n",
    "- Rows: userId, Columns: title, Values: rating"
   ]
  },
  {
   "cell_type": "code",
   "execution_count": 14,
   "id": "a226e945-b62f-41b1-ae2f-c85c87f9c85e",
   "metadata": {},
   "outputs": [
    {
     "data": {
      "text/html": [
       "<div>\n",
       "<style scoped>\n",
       "    .dataframe tbody tr th:only-of-type {\n",
       "        vertical-align: middle;\n",
       "    }\n",
       "\n",
       "    .dataframe tbody tr th {\n",
       "        vertical-align: top;\n",
       "    }\n",
       "\n",
       "    .dataframe thead th {\n",
       "        text-align: right;\n",
       "    }\n",
       "</style>\n",
       "<table border=\"1\" class=\"dataframe\">\n",
       "  <thead>\n",
       "    <tr style=\"text-align: right;\">\n",
       "      <th>title</th>\n",
       "      <th>'71 (2014)</th>\n",
       "      <th>'Hellboy': The Seeds of Creation (2004)</th>\n",
       "      <th>'Round Midnight (1986)</th>\n",
       "      <th>'Salem's Lot (2004)</th>\n",
       "      <th>'Til There Was You (1997)</th>\n",
       "      <th>'Tis the Season for Love (2015)</th>\n",
       "      <th>'burbs, The (1989)</th>\n",
       "      <th>'night Mother (1986)</th>\n",
       "      <th>(500) Days of Summer (2009)</th>\n",
       "      <th>*batteries not included (1987)</th>\n",
       "      <th>...</th>\n",
       "      <th>Zulu (2013)</th>\n",
       "      <th>[REC] (2007)</th>\n",
       "      <th>[REC]² (2009)</th>\n",
       "      <th>[REC]³ 3 Génesis (2012)</th>\n",
       "      <th>anohana: The Flower We Saw That Day - The Movie (2013)</th>\n",
       "      <th>eXistenZ (1999)</th>\n",
       "      <th>xXx (2002)</th>\n",
       "      <th>xXx: State of the Union (2005)</th>\n",
       "      <th>¡Three Amigos! (1986)</th>\n",
       "      <th>À nous la liberté (Freedom for Us) (1931)</th>\n",
       "    </tr>\n",
       "    <tr>\n",
       "      <th>userId</th>\n",
       "      <th></th>\n",
       "      <th></th>\n",
       "      <th></th>\n",
       "      <th></th>\n",
       "      <th></th>\n",
       "      <th></th>\n",
       "      <th></th>\n",
       "      <th></th>\n",
       "      <th></th>\n",
       "      <th></th>\n",
       "      <th></th>\n",
       "      <th></th>\n",
       "      <th></th>\n",
       "      <th></th>\n",
       "      <th></th>\n",
       "      <th></th>\n",
       "      <th></th>\n",
       "      <th></th>\n",
       "      <th></th>\n",
       "      <th></th>\n",
       "      <th></th>\n",
       "    </tr>\n",
       "  </thead>\n",
       "  <tbody>\n",
       "    <tr>\n",
       "      <th>1</th>\n",
       "      <td>NaN</td>\n",
       "      <td>NaN</td>\n",
       "      <td>NaN</td>\n",
       "      <td>NaN</td>\n",
       "      <td>NaN</td>\n",
       "      <td>NaN</td>\n",
       "      <td>NaN</td>\n",
       "      <td>NaN</td>\n",
       "      <td>NaN</td>\n",
       "      <td>NaN</td>\n",
       "      <td>...</td>\n",
       "      <td>NaN</td>\n",
       "      <td>NaN</td>\n",
       "      <td>NaN</td>\n",
       "      <td>NaN</td>\n",
       "      <td>NaN</td>\n",
       "      <td>NaN</td>\n",
       "      <td>NaN</td>\n",
       "      <td>NaN</td>\n",
       "      <td>4.0</td>\n",
       "      <td>NaN</td>\n",
       "    </tr>\n",
       "    <tr>\n",
       "      <th>2</th>\n",
       "      <td>NaN</td>\n",
       "      <td>NaN</td>\n",
       "      <td>NaN</td>\n",
       "      <td>NaN</td>\n",
       "      <td>NaN</td>\n",
       "      <td>NaN</td>\n",
       "      <td>NaN</td>\n",
       "      <td>NaN</td>\n",
       "      <td>NaN</td>\n",
       "      <td>NaN</td>\n",
       "      <td>...</td>\n",
       "      <td>NaN</td>\n",
       "      <td>NaN</td>\n",
       "      <td>NaN</td>\n",
       "      <td>NaN</td>\n",
       "      <td>NaN</td>\n",
       "      <td>NaN</td>\n",
       "      <td>NaN</td>\n",
       "      <td>NaN</td>\n",
       "      <td>NaN</td>\n",
       "      <td>NaN</td>\n",
       "    </tr>\n",
       "    <tr>\n",
       "      <th>3</th>\n",
       "      <td>NaN</td>\n",
       "      <td>NaN</td>\n",
       "      <td>NaN</td>\n",
       "      <td>NaN</td>\n",
       "      <td>NaN</td>\n",
       "      <td>NaN</td>\n",
       "      <td>NaN</td>\n",
       "      <td>NaN</td>\n",
       "      <td>NaN</td>\n",
       "      <td>NaN</td>\n",
       "      <td>...</td>\n",
       "      <td>NaN</td>\n",
       "      <td>NaN</td>\n",
       "      <td>NaN</td>\n",
       "      <td>NaN</td>\n",
       "      <td>NaN</td>\n",
       "      <td>NaN</td>\n",
       "      <td>NaN</td>\n",
       "      <td>NaN</td>\n",
       "      <td>NaN</td>\n",
       "      <td>NaN</td>\n",
       "    </tr>\n",
       "    <tr>\n",
       "      <th>4</th>\n",
       "      <td>NaN</td>\n",
       "      <td>NaN</td>\n",
       "      <td>NaN</td>\n",
       "      <td>NaN</td>\n",
       "      <td>NaN</td>\n",
       "      <td>NaN</td>\n",
       "      <td>NaN</td>\n",
       "      <td>NaN</td>\n",
       "      <td>NaN</td>\n",
       "      <td>NaN</td>\n",
       "      <td>...</td>\n",
       "      <td>NaN</td>\n",
       "      <td>NaN</td>\n",
       "      <td>NaN</td>\n",
       "      <td>NaN</td>\n",
       "      <td>NaN</td>\n",
       "      <td>NaN</td>\n",
       "      <td>NaN</td>\n",
       "      <td>NaN</td>\n",
       "      <td>NaN</td>\n",
       "      <td>NaN</td>\n",
       "    </tr>\n",
       "    <tr>\n",
       "      <th>5</th>\n",
       "      <td>NaN</td>\n",
       "      <td>NaN</td>\n",
       "      <td>NaN</td>\n",
       "      <td>NaN</td>\n",
       "      <td>NaN</td>\n",
       "      <td>NaN</td>\n",
       "      <td>NaN</td>\n",
       "      <td>NaN</td>\n",
       "      <td>NaN</td>\n",
       "      <td>NaN</td>\n",
       "      <td>...</td>\n",
       "      <td>NaN</td>\n",
       "      <td>NaN</td>\n",
       "      <td>NaN</td>\n",
       "      <td>NaN</td>\n",
       "      <td>NaN</td>\n",
       "      <td>NaN</td>\n",
       "      <td>NaN</td>\n",
       "      <td>NaN</td>\n",
       "      <td>NaN</td>\n",
       "      <td>NaN</td>\n",
       "    </tr>\n",
       "  </tbody>\n",
       "</table>\n",
       "<p>5 rows × 9719 columns</p>\n",
       "</div>"
      ],
      "text/plain": [
       "title   '71 (2014)  'Hellboy': The Seeds of Creation (2004)  \\\n",
       "userId                                                        \n",
       "1              NaN                                      NaN   \n",
       "2              NaN                                      NaN   \n",
       "3              NaN                                      NaN   \n",
       "4              NaN                                      NaN   \n",
       "5              NaN                                      NaN   \n",
       "\n",
       "title   'Round Midnight (1986)  'Salem's Lot (2004)  \\\n",
       "userId                                                \n",
       "1                          NaN                  NaN   \n",
       "2                          NaN                  NaN   \n",
       "3                          NaN                  NaN   \n",
       "4                          NaN                  NaN   \n",
       "5                          NaN                  NaN   \n",
       "\n",
       "title   'Til There Was You (1997)  'Tis the Season for Love (2015)  \\\n",
       "userId                                                               \n",
       "1                             NaN                              NaN   \n",
       "2                             NaN                              NaN   \n",
       "3                             NaN                              NaN   \n",
       "4                             NaN                              NaN   \n",
       "5                             NaN                              NaN   \n",
       "\n",
       "title   'burbs, The (1989)  'night Mother (1986)  (500) Days of Summer (2009)  \\\n",
       "userId                                                                          \n",
       "1                      NaN                   NaN                          NaN   \n",
       "2                      NaN                   NaN                          NaN   \n",
       "3                      NaN                   NaN                          NaN   \n",
       "4                      NaN                   NaN                          NaN   \n",
       "5                      NaN                   NaN                          NaN   \n",
       "\n",
       "title   *batteries not included (1987)  ...  Zulu (2013)  [REC] (2007)  \\\n",
       "userId                                  ...                              \n",
       "1                                  NaN  ...          NaN           NaN   \n",
       "2                                  NaN  ...          NaN           NaN   \n",
       "3                                  NaN  ...          NaN           NaN   \n",
       "4                                  NaN  ...          NaN           NaN   \n",
       "5                                  NaN  ...          NaN           NaN   \n",
       "\n",
       "title   [REC]² (2009)  [REC]³ 3 Génesis (2012)  \\\n",
       "userId                                           \n",
       "1                 NaN                      NaN   \n",
       "2                 NaN                      NaN   \n",
       "3                 NaN                      NaN   \n",
       "4                 NaN                      NaN   \n",
       "5                 NaN                      NaN   \n",
       "\n",
       "title   anohana: The Flower We Saw That Day - The Movie (2013)  \\\n",
       "userId                                                           \n",
       "1                                                     NaN        \n",
       "2                                                     NaN        \n",
       "3                                                     NaN        \n",
       "4                                                     NaN        \n",
       "5                                                     NaN        \n",
       "\n",
       "title   eXistenZ (1999)  xXx (2002)  xXx: State of the Union (2005)  \\\n",
       "userId                                                                \n",
       "1                   NaN         NaN                             NaN   \n",
       "2                   NaN         NaN                             NaN   \n",
       "3                   NaN         NaN                             NaN   \n",
       "4                   NaN         NaN                             NaN   \n",
       "5                   NaN         NaN                             NaN   \n",
       "\n",
       "title   ¡Three Amigos! (1986)  À nous la liberté (Freedom for Us) (1931)  \n",
       "userId                                                                    \n",
       "1                         4.0                                        NaN  \n",
       "2                         NaN                                        NaN  \n",
       "3                         NaN                                        NaN  \n",
       "4                         NaN                                        NaN  \n",
       "5                         NaN                                        NaN  \n",
       "\n",
       "[5 rows x 9719 columns]"
      ]
     },
     "execution_count": 14,
     "metadata": {},
     "output_type": "execute_result"
    }
   ],
   "source": [
    "# This matrix contains many NaN values\n",
    "movie_user_matrix = df.pivot_table(index='userId', columns='title', values='rating')\n",
    "\n",
    "# Displaying the matrix\n",
    "movie_user_matrix.head()"
   ]
  },
  {
   "cell_type": "code",
   "execution_count": 15,
   "id": "ad4fc0ea-af9a-4fbb-87b8-b943d0fd4f61",
   "metadata": {},
   "outputs": [
    {
     "data": {
      "text/html": [
       "<div>\n",
       "<style scoped>\n",
       "    .dataframe tbody tr th:only-of-type {\n",
       "        vertical-align: middle;\n",
       "    }\n",
       "\n",
       "    .dataframe tbody tr th {\n",
       "        vertical-align: top;\n",
       "    }\n",
       "\n",
       "    .dataframe thead th {\n",
       "        text-align: right;\n",
       "    }\n",
       "</style>\n",
       "<table border=\"1\" class=\"dataframe\">\n",
       "  <thead>\n",
       "    <tr style=\"text-align: right;\">\n",
       "      <th>userId</th>\n",
       "      <th>1</th>\n",
       "      <th>2</th>\n",
       "      <th>3</th>\n",
       "      <th>4</th>\n",
       "      <th>5</th>\n",
       "      <th>6</th>\n",
       "      <th>7</th>\n",
       "      <th>8</th>\n",
       "      <th>9</th>\n",
       "      <th>10</th>\n",
       "      <th>...</th>\n",
       "      <th>601</th>\n",
       "      <th>602</th>\n",
       "      <th>603</th>\n",
       "      <th>604</th>\n",
       "      <th>605</th>\n",
       "      <th>606</th>\n",
       "      <th>607</th>\n",
       "      <th>608</th>\n",
       "      <th>609</th>\n",
       "      <th>610</th>\n",
       "    </tr>\n",
       "    <tr>\n",
       "      <th>title</th>\n",
       "      <th></th>\n",
       "      <th></th>\n",
       "      <th></th>\n",
       "      <th></th>\n",
       "      <th></th>\n",
       "      <th></th>\n",
       "      <th></th>\n",
       "      <th></th>\n",
       "      <th></th>\n",
       "      <th></th>\n",
       "      <th></th>\n",
       "      <th></th>\n",
       "      <th></th>\n",
       "      <th></th>\n",
       "      <th></th>\n",
       "      <th></th>\n",
       "      <th></th>\n",
       "      <th></th>\n",
       "      <th></th>\n",
       "      <th></th>\n",
       "      <th></th>\n",
       "    </tr>\n",
       "  </thead>\n",
       "  <tbody>\n",
       "    <tr>\n",
       "      <th>'71 (2014)</th>\n",
       "      <td>NaN</td>\n",
       "      <td>NaN</td>\n",
       "      <td>NaN</td>\n",
       "      <td>NaN</td>\n",
       "      <td>NaN</td>\n",
       "      <td>NaN</td>\n",
       "      <td>NaN</td>\n",
       "      <td>NaN</td>\n",
       "      <td>NaN</td>\n",
       "      <td>NaN</td>\n",
       "      <td>...</td>\n",
       "      <td>NaN</td>\n",
       "      <td>NaN</td>\n",
       "      <td>NaN</td>\n",
       "      <td>NaN</td>\n",
       "      <td>NaN</td>\n",
       "      <td>NaN</td>\n",
       "      <td>NaN</td>\n",
       "      <td>NaN</td>\n",
       "      <td>NaN</td>\n",
       "      <td>4.0</td>\n",
       "    </tr>\n",
       "    <tr>\n",
       "      <th>'Hellboy': The Seeds of Creation (2004)</th>\n",
       "      <td>NaN</td>\n",
       "      <td>NaN</td>\n",
       "      <td>NaN</td>\n",
       "      <td>NaN</td>\n",
       "      <td>NaN</td>\n",
       "      <td>NaN</td>\n",
       "      <td>NaN</td>\n",
       "      <td>NaN</td>\n",
       "      <td>NaN</td>\n",
       "      <td>NaN</td>\n",
       "      <td>...</td>\n",
       "      <td>NaN</td>\n",
       "      <td>NaN</td>\n",
       "      <td>NaN</td>\n",
       "      <td>NaN</td>\n",
       "      <td>NaN</td>\n",
       "      <td>NaN</td>\n",
       "      <td>NaN</td>\n",
       "      <td>NaN</td>\n",
       "      <td>NaN</td>\n",
       "      <td>NaN</td>\n",
       "    </tr>\n",
       "    <tr>\n",
       "      <th>'Round Midnight (1986)</th>\n",
       "      <td>NaN</td>\n",
       "      <td>NaN</td>\n",
       "      <td>NaN</td>\n",
       "      <td>NaN</td>\n",
       "      <td>NaN</td>\n",
       "      <td>NaN</td>\n",
       "      <td>NaN</td>\n",
       "      <td>NaN</td>\n",
       "      <td>NaN</td>\n",
       "      <td>NaN</td>\n",
       "      <td>...</td>\n",
       "      <td>NaN</td>\n",
       "      <td>NaN</td>\n",
       "      <td>NaN</td>\n",
       "      <td>NaN</td>\n",
       "      <td>NaN</td>\n",
       "      <td>NaN</td>\n",
       "      <td>NaN</td>\n",
       "      <td>NaN</td>\n",
       "      <td>NaN</td>\n",
       "      <td>NaN</td>\n",
       "    </tr>\n",
       "    <tr>\n",
       "      <th>'Salem's Lot (2004)</th>\n",
       "      <td>NaN</td>\n",
       "      <td>NaN</td>\n",
       "      <td>NaN</td>\n",
       "      <td>NaN</td>\n",
       "      <td>NaN</td>\n",
       "      <td>NaN</td>\n",
       "      <td>NaN</td>\n",
       "      <td>NaN</td>\n",
       "      <td>NaN</td>\n",
       "      <td>NaN</td>\n",
       "      <td>...</td>\n",
       "      <td>NaN</td>\n",
       "      <td>NaN</td>\n",
       "      <td>NaN</td>\n",
       "      <td>NaN</td>\n",
       "      <td>NaN</td>\n",
       "      <td>NaN</td>\n",
       "      <td>NaN</td>\n",
       "      <td>NaN</td>\n",
       "      <td>NaN</td>\n",
       "      <td>NaN</td>\n",
       "    </tr>\n",
       "    <tr>\n",
       "      <th>'Til There Was You (1997)</th>\n",
       "      <td>NaN</td>\n",
       "      <td>NaN</td>\n",
       "      <td>NaN</td>\n",
       "      <td>NaN</td>\n",
       "      <td>NaN</td>\n",
       "      <td>NaN</td>\n",
       "      <td>NaN</td>\n",
       "      <td>NaN</td>\n",
       "      <td>NaN</td>\n",
       "      <td>NaN</td>\n",
       "      <td>...</td>\n",
       "      <td>NaN</td>\n",
       "      <td>NaN</td>\n",
       "      <td>NaN</td>\n",
       "      <td>NaN</td>\n",
       "      <td>NaN</td>\n",
       "      <td>NaN</td>\n",
       "      <td>NaN</td>\n",
       "      <td>NaN</td>\n",
       "      <td>NaN</td>\n",
       "      <td>NaN</td>\n",
       "    </tr>\n",
       "  </tbody>\n",
       "</table>\n",
       "<p>5 rows × 610 columns</p>\n",
       "</div>"
      ],
      "text/plain": [
       "userId                                   1    2    3    4    5    6    7    \\\n",
       "title                                                                        \n",
       "'71 (2014)                               NaN  NaN  NaN  NaN  NaN  NaN  NaN   \n",
       "'Hellboy': The Seeds of Creation (2004)  NaN  NaN  NaN  NaN  NaN  NaN  NaN   \n",
       "'Round Midnight (1986)                   NaN  NaN  NaN  NaN  NaN  NaN  NaN   \n",
       "'Salem's Lot (2004)                      NaN  NaN  NaN  NaN  NaN  NaN  NaN   \n",
       "'Til There Was You (1997)                NaN  NaN  NaN  NaN  NaN  NaN  NaN   \n",
       "\n",
       "userId                                   8    9    10   ...  601  602  603  \\\n",
       "title                                                   ...                  \n",
       "'71 (2014)                               NaN  NaN  NaN  ...  NaN  NaN  NaN   \n",
       "'Hellboy': The Seeds of Creation (2004)  NaN  NaN  NaN  ...  NaN  NaN  NaN   \n",
       "'Round Midnight (1986)                   NaN  NaN  NaN  ...  NaN  NaN  NaN   \n",
       "'Salem's Lot (2004)                      NaN  NaN  NaN  ...  NaN  NaN  NaN   \n",
       "'Til There Was You (1997)                NaN  NaN  NaN  ...  NaN  NaN  NaN   \n",
       "\n",
       "userId                                   604  605  606  607  608  609  610  \n",
       "title                                                                       \n",
       "'71 (2014)                               NaN  NaN  NaN  NaN  NaN  NaN  4.0  \n",
       "'Hellboy': The Seeds of Creation (2004)  NaN  NaN  NaN  NaN  NaN  NaN  NaN  \n",
       "'Round Midnight (1986)                   NaN  NaN  NaN  NaN  NaN  NaN  NaN  \n",
       "'Salem's Lot (2004)                      NaN  NaN  NaN  NaN  NaN  NaN  NaN  \n",
       "'Til There Was You (1997)                NaN  NaN  NaN  NaN  NaN  NaN  NaN  \n",
       "\n",
       "[5 rows x 610 columns]"
      ]
     },
     "execution_count": 15,
     "metadata": {},
     "output_type": "execute_result"
    }
   ],
   "source": [
    "# Creating a transposed matrix (Movie-User Matrix) For User-based CF\n",
    "user_movie_matrix = df.pivot_table(index='title', columns='userId', values='rating')\n",
    "# Displaying\n",
    "user_movie_matrix.head()"
   ]
  },
  {
   "cell_type": "markdown",
   "id": "b891d6cd-2b8b-4ab4-ad75-3d869a9e56cf",
   "metadata": {},
   "source": [
    "# Modelling"
   ]
  },
  {
   "cell_type": "markdown",
   "id": "ae1fc5f9-50b8-478b-a2d3-90f9e9cb35a4",
   "metadata": {},
   "source": [
    "### Importing necessary libraries"
   ]
  },
  {
   "cell_type": "code",
   "execution_count": 16,
   "id": "a4a6b356-1270-4beb-a728-bfa6580e7654",
   "metadata": {},
   "outputs": [],
   "source": [
    "from sklearn.linear_model import LinearRegression\n",
    "from sklearn.neighbors import KNeighborsRegressor\n",
    "from sklearn.metrics.pairwise import cosine_similarity\n",
    "from sklearn.model_selection import train_test_split,GridSearchCV\n",
    "from sklearn.metrics import mean_squared_error\n",
    "from math import sqrt\n",
    "from sklearn.preprocessing import StandardScaler\n",
    "from sklearn.pipeline import Pipeline"
   ]
  },
  {
   "cell_type": "markdown",
   "id": "61784615-3c80-4ec8-b1c0-ae5451602699",
   "metadata": {},
   "source": [
    "### Splitting the Data"
   ]
  },
  {
   "cell_type": "code",
   "execution_count": 17,
   "id": "d947adf7-7880-4299-8cc9-93d08936f8a3",
   "metadata": {},
   "outputs": [
    {
     "name": "stdout",
     "output_type": "stream",
     "text": [
      "\n",
      "Training data shape for sklearn models: (80668, 2)\n",
      "Test data shape for sklearn models: (20168, 2)\n",
      "Training data shape for CF models: (80668, 3)\n",
      "Test data shape for CF models: (20168, 3)\n"
     ]
    }
   ],
   "source": [
    "# To be used with Sklearn Models\n",
    "X = df[['userId', 'movieId']]\n",
    "y = df['rating']\n",
    "\n",
    "# splitting the data into training and testing sets\n",
    "X_train, X_test, y_train, y_test = train_test_split(X, y, test_size=0.2, random_state=42)\n",
    "\n",
    "# Retaining the original flat_df split for CF evaluation\n",
    "flat_df = df[['userId', 'movieId', 'rating']]\n",
    "train_data_cf, test_data_cf = train_test_split(flat_df, test_size=0.2, random_state=42)\n",
    "\n",
    "# Checking the shapes of splitted data\n",
    "print(f\"\\nTraining data shape for sklearn models: {X_train.shape}\")\n",
    "print(f\"Test data shape for sklearn models: {X_test.shape}\")\n",
    "print(f\"Training data shape for CF models: {train_data_cf.shape}\")\n",
    "print(f\"Test data shape for CF models: {test_data_cf.shape}\")"
   ]
  },
  {
   "cell_type": "markdown",
   "id": "9bc8f67d-2f2c-4f3d-8547-be7ce5d3cc91",
   "metadata": {},
   "source": [
    "## Model 1: Movie Recommendation Using Linear Regression (Sklearn)"
   ]
  },
  {
   "cell_type": "code",
   "execution_count": 18,
   "id": "3a32f5df-7494-47e3-9769-0d7c6f8f1987",
   "metadata": {},
   "outputs": [
    {
     "data": {
      "text/plain": [
       "Pipeline(steps=[('scaler', StandardScaler()),\n",
       "                ('regressor', LinearRegression())])"
      ]
     },
     "execution_count": 18,
     "metadata": {},
     "output_type": "execute_result"
    }
   ],
   "source": [
    "# Creating a pipeline with StandardScaler and LinearRegression\n",
    "pipeline_lr = Pipeline([\n",
    "    ('scaler', StandardScaler()),\n",
    "    ('regressor', LinearRegression())\n",
    "])\n",
    "# fitiing the training sets\n",
    "pipeline_lr.fit(X_train, y_train)"
   ]
  },
  {
   "cell_type": "code",
   "execution_count": 19,
   "id": "18b02ba2-16db-4691-8261-3283de953159",
   "metadata": {},
   "outputs": [],
   "source": [
    "# Predicting\n",
    "y_pred_lr_pipeline = pipeline_lr.predict(X_test)"
   ]
  },
  {
   "cell_type": "code",
   "execution_count": 20,
   "id": "a0e7b573-fbe7-40b9-8988-f8e29f0e41b8",
   "metadata": {},
   "outputs": [
    {
     "name": "stdout",
     "output_type": "stream",
     "text": [
      "MSE(Mean Squared Error): 1.0954283165577072\n",
      "RMSE(Root Mean Squared Error): 1.0466271143810995\n"
     ]
    }
   ],
   "source": [
    "# Evaluating the model using RMSE and accuracy score\n",
    "mse_lr_pipeline = mean_squared_error(y_test, y_pred_lr_pipeline)\n",
    "rmse_lr_pipeline = sqrt(mean_squared_error(y_test, y_pred_lr_pipeline))\n",
    "\n",
    "\n",
    "# Displaying\n",
    "print(f\"MSE(Mean Squared Error): {mse_lr_pipeline}\")\n",
    "print(f\"RMSE(Root Mean Squared Error): {rmse_lr_pipeline}\")\n"
   ]
  },
  {
   "cell_type": "markdown",
   "id": "1835ee6d-765c-495c-ae20-28c07b440f75",
   "metadata": {},
   "source": [
    "#### Interpretation\n",
    "A RMSE of approximately 1.05 suggests that our Linear Regression model's prediction are off by 1.05 rating points from the actual ratings. While not perfect, it provides a baseline perfomance for this simplified model."
   ]
  },
  {
   "cell_type": "markdown",
   "id": "786bee55-81df-4187-94c7-ebd04aaadf60",
   "metadata": {},
   "source": [
    "#### Clipping Predictions to Validate Range for Better Interpretability"
   ]
  },
  {
   "cell_type": "code",
   "execution_count": 21,
   "id": "ac83a178-d15b-4240-a8db-7ba33a0f1c4d",
   "metadata": {},
   "outputs": [
    {
     "name": "stdout",
     "output_type": "stream",
     "text": [
      "  RMSE (Clipped Predictions 0.5-5.0: 1.0466)\n"
     ]
    }
   ],
   "source": [
    "y_pred_lr_pipeline_clipped = np.clip(y_pred_lr_pipeline, 0.5, 5.0)\n",
    "rmse_lr_pipeline_clipped = sqrt(mean_squared_error(y_test, y_pred_lr_pipeline))\n",
    "\n",
    "# Displaying\n",
    "print(f\"  RMSE (Clipped Predictions 0.5-5.0: {rmse_lr_pipeline_clipped:.4f})\")"
   ]
  },
  {
   "cell_type": "markdown",
   "id": "28afee23-3c23-40b3-b7e6-73d51e37d7fc",
   "metadata": {},
   "source": [
    "#### Interpretation\n",
    " RMSE remains the same as the unclipped version. This suggests that in our Linear Regression model, the predictions falling outside the 0.5-5.0 range were either very few or very close to the boundaries, so clipping them didn't significantly change the overall error"
   ]
  },
  {
   "cell_type": "markdown",
   "id": "32f84036-5812-4b62-8770-2a26b2b58115",
   "metadata": {},
   "source": [
    "## Model 2: Movie Recommendation Using K-Neighbors Regressor (Sklearn)"
   ]
  },
  {
   "cell_type": "code",
   "execution_count": 22,
   "id": "aaa7dd5d-1cf3-4571-b004-0b761635380c",
   "metadata": {},
   "outputs": [],
   "source": [
    "# K-Nearest Neighbors Regressor with Pipeline and GridSearchCV\n",
    "# Creating a pipeline  for KNN\n",
    "pipeline_knn = Pipeline([\n",
    "    ('scaler', StandardScaler()),\n",
    "    ('knn', KNeighborsRegressor())\n",
    "])"
   ]
  },
  {
   "cell_type": "code",
   "execution_count": 23,
   "id": "c5b06c0a-6be7-4572-8701-92db549f9945",
   "metadata": {},
   "outputs": [],
   "source": [
    "# Defining the parameter grid for GridSearchCV with best n_neighbors\n",
    "param_grid_knn = {\n",
    "    'knn__n_neighbors': [3, 5, 7, 10, 15] # Experimenting with different neigbors\n",
    "}"
   ]
  },
  {
   "cell_type": "code",
   "execution_count": 24,
   "id": "558749cf-883d-4502-8b5b-ae16b146c753",
   "metadata": {},
   "outputs": [],
   "source": [
    "# Initializing GridSearchCV with cv=5\n",
    "grid_search_knn = GridSearchCV(pipeline_knn,\n",
    "                               param_grid_knn,\n",
    "                               cv=5, # for 5 cross_validation\n",
    "                               scoring='neg_mean_squared_error',# standard for regression to minimize RMSE\n",
    "                               n_jobs=1,\n",
    "                               verbose=1)\n"
   ]
  },
  {
   "cell_type": "code",
   "execution_count": 25,
   "id": "8d52f07f-5d5e-4acf-a38d-671dda297234",
   "metadata": {},
   "outputs": [
    {
     "name": "stdout",
     "output_type": "stream",
     "text": [
      "Fitting 5 folds for each of 5 candidates, totalling 25 fits\n"
     ]
    },
    {
     "data": {
      "text/plain": [
       "GridSearchCV(cv=5,\n",
       "             estimator=Pipeline(steps=[('scaler', StandardScaler()),\n",
       "                                       ('knn', KNeighborsRegressor())]),\n",
       "             n_jobs=1, param_grid={'knn__n_neighbors': [3, 5, 7, 10, 15]},\n",
       "             scoring='neg_mean_squared_error', verbose=1)"
      ]
     },
     "execution_count": 25,
     "metadata": {},
     "output_type": "execute_result"
    }
   ],
   "source": [
    "# Running GridSearchCV for KNN\n",
    "grid_search_knn.fit(X_train, y_train)"
   ]
  },
  {
   "cell_type": "code",
   "execution_count": 26,
   "id": "bc89a7b1-1326-4af0-8eeb-179cbf8b216f",
   "metadata": {},
   "outputs": [
    {
     "name": "stdout",
     "output_type": "stream",
     "text": [
      "\n",
      "Best parameters for KNN: {'knn__n_neighbors': 15}\n",
      "Best cross_validation RMSE for KNN: 0.9767443528007987\n"
     ]
    }
   ],
   "source": [
    "# Checking for the best Parameters\n",
    "print(f\"\\nBest parameters for KNN:\", grid_search_knn.best_params_)\n",
    "print(f\"Best cross_validation RMSE for KNN:\", sqrt(-grid_search_knn.best_score_))"
   ]
  },
  {
   "cell_type": "markdown",
   "id": "176e0fa2-71e9-4cba-9162-9e543c315a82",
   "metadata": {},
   "source": [
    "- We found that setting n_neighbors to 15 yielded the best performance during cross-validation\n",
    "- An RMSE of approximately 0.98 is generally lower than the 1.05 RMSE we observed for Linear Regression. This suggests that, through tuning, our KNN model is more accurate at predicting movie ratings than the simple Linear Regression model on this dataset."
   ]
  },
  {
   "cell_type": "code",
   "execution_count": 27,
   "id": "bf864a25-ec2b-4d32-82c3-a2dce88d5db9",
   "metadata": {},
   "outputs": [],
   "source": [
    "# Getting the best KNN model from GridSearchCV\n",
    "best_knn_model = grid_search_knn.best_estimator_"
   ]
  },
  {
   "cell_type": "code",
   "execution_count": 28,
   "id": "d253a814-d8af-4ade-b926-3078915200fb",
   "metadata": {},
   "outputs": [
    {
     "name": "stdout",
     "output_type": "stream",
     "text": [
      "MSE (Mean Squared Error): 0.9620957843007625\n",
      "RMSE (Root Mean Squared Error): 0.9808648144880937\n"
     ]
    }
   ],
   "source": [
    "# Predicting\n",
    "y_pred_knn_best = best_knn_model.predict(X_test)\n",
    "\n",
    "# Evaluating the model\n",
    "mse_knn_best = mean_squared_error(y_test, y_pred_knn_best)\n",
    "rmse_knn_best = sqrt(mean_squared_error(y_test, y_pred_knn_best))\n",
    "\n",
    "print(f\"MSE (Mean Squared Error): {mse_knn_best}\")\n",
    "print(f\"RMSE (Root Mean Squared Error): {rmse_knn_best}\")"
   ]
  },
  {
   "cell_type": "markdown",
   "id": "2cef9847-93d9-4345-baee-69fc807314b7",
   "metadata": {},
   "source": [
    "The K-Nearest Neighbors (KNN) Regressor, after being tuned with GridSearchCV, shows strong performance on the test set with an RMSE of approximately 0.98. This indicates that, on average, its rating predictions are off by about 0.98 rating points. This result is consistent with its cross-validation performance and demonstrates that the tuned KNN model is more accurate than the previously evaluated Linear Regression model."
   ]
  },
  {
   "cell_type": "markdown",
   "id": "c74e8786-e1bc-42b2-a320-253bd621c339",
   "metadata": {},
   "source": [
    "#### Clipping predictions to validate rating range (0.5 to 5.0)"
   ]
  },
  {
   "cell_type": "code",
   "execution_count": 29,
   "id": "cbe2fb18-1ffa-4b9e-bc91-0a31aa5e10ee",
   "metadata": {},
   "outputs": [
    {
     "name": "stdout",
     "output_type": "stream",
     "text": [
      "  RMSE (Clipped Predictions 0.5-5.0): 0.9808648144880937\n"
     ]
    }
   ],
   "source": [
    "y_pred_knn_best_clipped = np.clip(y_pred_knn_best, 0.5, 5.0)\n",
    "rmse_knn_best_clipped = sqrt(mean_squared_error(y_test, y_pred_knn_best_clipped))\n",
    "\n",
    "print(f\"  RMSE (Clipped Predictions 0.5-5.0): {rmse_knn_best_clipped}\")"
   ]
  },
  {
   "cell_type": "markdown",
   "id": "9beb434a-616a-475f-ab2f-f4d1fc79a91e",
   "metadata": {},
   "source": [
    "After applying clipping to ensure all predictions fall between 0.5 and 5.0, the K-Nearest Neighbors (KNN) Regressor still yields an RMSE of approximately 0.9809 remaining consistent."
   ]
  },
  {
   "cell_type": "markdown",
   "id": "d73b5711-4386-40bb-9452-86147f043a62",
   "metadata": {},
   "source": [
    "# Model 3. User - Based Collaborative Filtering (Using Cosine Similarity)"
   ]
  },
  {
   "cell_type": "code",
   "execution_count": 30,
   "id": "e629e3c7-71d5-4d82-989a-609473f45076",
   "metadata": {},
   "outputs": [
    {
     "name": "stdout",
     "output_type": "stream",
     "text": [
      "\n",
      "Generating user-based recommendations for user ID: 1\n",
      "Top 10 similar users for User 1:\n",
      "userId\n",
      "266    0.357408\n",
      "313    0.351562\n",
      "368    0.345127\n",
      "57     0.345034\n",
      "91     0.334727\n",
      "469    0.330664\n",
      "39     0.329782\n",
      "288    0.329700\n",
      "452    0.328048\n",
      "45     0.327922\n",
      "Name: 1, dtype: float64\n",
      "\n",
      "User-based Recommendations for User 1:\n",
      "Terminator 2: Judgment Day (1991)    14.182299\n",
      "Aliens (1986)                        13.925162\n",
      "Sixth Sense, The (1999)              13.422015\n",
      "Hunt for Red October, The (1990)     13.377867\n",
      "Godfather, The (1972)                13.134550\n",
      "dtype: float64\n"
     ]
    }
   ],
   "source": [
    "# Targeting user for recommendations\n",
    "target_user_id = 1 # Pick an existing user ID for demonstration\n",
    "top_n_similar_users = 10\n",
    "top_n_movies = 5\n",
    "\n",
    "print(f\"\\nGenerating user-based recommendations for user ID: {target_user_id}\")\n",
    "\n",
    "if target_user_id in movie_user_matrix.index:\n",
    "    # Getting the target user's ratings\n",
    "    target_user_ratings = movie_user_matrix.loc[target_user_id].dropna()\n",
    "\n",
    "    # Calculating similarity between target user and all other users\n",
    "    user_similarity_matrix = cosine_similarity(movie_user_matrix.fillna(0))\n",
    "    user_similarity_df = pd.DataFrame(user_similarity_matrix,\n",
    "                                      index=movie_user_matrix.index,\n",
    "                                      columns=movie_user_matrix.index)\n",
    "\n",
    "    # Getting similarity scores for the target user, excluding self-similarity\n",
    "    similar_users = user_similarity_df[target_user_id].sort_values(ascending=False)\n",
    "    similar_users = similar_users.drop(target_user_id) # Removing self from similar users\n",
    "\n",
    "    # Selecting top N most similar users\n",
    "    top_similar_users = similar_users.head(top_n_similar_users)\n",
    "    print(f\"Top {top_n_similar_users} similar users for User {target_user_id}:\\n{top_similar_users}\")\n",
    "\n",
    "    # Initializing a dictionary to store movie scores\n",
    "    movie_scores = {}\n",
    "\n",
    "    for similar_user_id, similarity_score in top_similar_users.items():\n",
    "        # Getting movies rated by the similar user\n",
    "        similar_user_rated_movies = movie_user_matrix.loc[similar_user_id].dropna()\n",
    "\n",
    "        for movie, rating in similar_user_rated_movies.items():\n",
    "            # Only consider movies not yet rated by the target user\n",
    "            if movie not in target_user_ratings.index:\n",
    "                # Add score based on similar user's rating weighted by similarity\n",
    "                if movie not in movie_scores:\n",
    "                    movie_scores[movie] = 0\n",
    "                movie_scores[movie] += rating * similarity_score\n",
    "\n",
    "    # Convert scores to a Series and sort\n",
    "    user_based_recommendations = pd.Series(movie_scores).sort_values(ascending=False)\n",
    "    print(f\"\\nUser-based Recommendations for User {target_user_id}:\")\n",
    "    print(user_based_recommendations.head(top_n_movies))\n",
    "else:\n",
    "    print(f\"Error: User ID {target_user_id} not found in the dataset for User-based CF.\")"
   ]
  },
  {
   "cell_type": "markdown",
   "id": "fc81e2fc-102f-407f-8587-23c2f61745b0",
   "metadata": {},
   "source": [
    "#  Evaluation for User-based Collaborative Filtering "
   ]
  },
  {
   "cell_type": "code",
   "execution_count": 33,
   "id": "c5c01660-d912-43b0-a571-e55e052ba092",
   "metadata": {},
   "outputs": [
    {
     "name": "stdout",
     "output_type": "stream",
     "text": [
      "\n",
      "Making predictions for User-based CF on 20168 test samples\n",
      "Processed 1000/20168 CF test samples\n",
      "Processed 2000/20168 CF test samples\n",
      "Processed 3000/20168 CF test samples\n",
      "Processed 4000/20168 CF test samples\n",
      "Processed 5000/20168 CF test samples\n",
      "Processed 6000/20168 CF test samples\n",
      "Processed 7000/20168 CF test samples\n",
      "Processed 8000/20168 CF test samples\n",
      "Processed 9000/20168 CF test samples\n",
      "Processed 10000/20168 CF test samples\n",
      "Processed 11000/20168 CF test samples\n",
      "Processed 12000/20168 CF test samples\n",
      "Processed 13000/20168 CF test samples\n",
      "Processed 14000/20168 CF test samples\n",
      "Processed 15000/20168 CF test samples\n",
      "Processed 16000/20168 CF test samples\n",
      "Processed 17000/20168 CF test samples\n",
      "Processed 18000/20168 CF test samples\n",
      "Processed 19000/20168 CF test samples\n",
      "Processed 20000/20168 CF test samples\n",
      "\n",
      "Evaluation Metrics (User-based CF):\n",
      "  RMSE (Root Mean Squared Error): 0.968960262797571\n"
     ]
    }
   ],
   "source": [
    "# Reconstructing the user-item matrix from the training data for modeling\n",
    "train_movie_user_matrix_cf = train_data_cf.pivot_table(index='userId', columns='movieId', values='rating')\n",
    "\n",
    "print(f\"\\nMaking predictions for User-based CF on {test_data_cf.shape[0]} test samples\")\n",
    "\n",
    "# Initializing lists for CF predictions and actuals\n",
    "predictions_cf = []\n",
    "actual_ratings_cf = []\n",
    "processed_count_cf = 0\n",
    "total_test_rows_cf = test_data_cf.shape[0]\n",
    "\n",
    "# Looping through each row in the test data for CF prediction\n",
    "for index, row in test_data_cf.iterrows():\n",
    "    user = int(row['userId'])\n",
    "    movie = int(row['movieId'])\n",
    "    actual_rating = row['rating']\n",
    "\n",
    "    predicted_val = np.nan # Default to NaN if prediction isn't made\n",
    "\n",
    "    # Check if user or movie exists in the training data's CF matrix\n",
    "    if user in train_movie_user_matrix_cf.index and movie in train_movie_user_matrix_cf.columns:\n",
    "        # Get users who rated the target movie in the training set\n",
    "        users_who_rated_movie = train_movie_user_matrix_cf[movie].dropna().index\n",
    "\n",
    "        if len(users_who_rated_movie) > 0:\n",
    "            # Create a sub-matrix for similarity calculation including the target user and users who rated the movie\n",
    "            relevant_users_for_similarity = users_who_rated_movie.union({user})\n",
    "            if len(relevant_users_for_similarity) >= 2: # Need at least 2 for similarity\n",
    "                relevant_users_matrix = train_movie_user_matrix_cf.loc[relevant_users_for_similarity].fillna(0)\n",
    "\n",
    "                user_similarity_matrix_pred = cosine_similarity(relevant_users_matrix)\n",
    "                user_similarity_df_pred = pd.DataFrame(user_similarity_matrix_pred,\n",
    "                                                       index=relevant_users_matrix.index,\n",
    "                                                       columns=relevant_users_matrix.index)\n",
    "\n",
    "                # Get similarity scores for the target user, excluding self\n",
    "                similarities = user_similarity_df_pred[user].drop(user, errors='ignore')\n",
    "\n",
    "                # Filter to only users who rated the target movie and are among the top similar\n",
    "                similar_users_for_movie = similarities[similarities > 0].sort_values(ascending=False).head(10) # Using top_n_similar_users as 10 here for consistency\n",
    "\n",
    "                weighted_sum = 0\n",
    "                sum_of_similarities = 0\n",
    "\n",
    "                for sim_user_id, sim_score in similar_users_for_movie.items():\n",
    "                    sim_user_rating = train_movie_user_matrix_cf.loc[sim_user_id, movie]\n",
    "                    if not pd.isna(sim_user_rating):\n",
    "                        weighted_sum += sim_user_rating * sim_score\n",
    "                        sum_of_similarities += sim_score\n",
    "\n",
    "                if sum_of_similarities > 0:\n",
    "                    predicted_val = weighted_sum / sum_of_similarities\n",
    "                    # Ensure predicted rating is within 0.5-5.0 range\n",
    "                    predicted_val = max(0.5, min(5.0, predicted_val))\n",
    "\n",
    "    if not pd.isna(predicted_val):\n",
    "        predictions_cf.append(predicted_val)\n",
    "        actual_ratings_cf.append(actual_rating)\n",
    "\n",
    "    processed_count_cf += 1\n",
    "    if processed_count_cf % 1000 == 0:\n",
    "        print(f\"Processed {processed_count_cf}/{total_test_rows_cf} CF test samples\")\n",
    "\n",
    "\n",
    "if len(predictions_cf) > 0:\n",
    "    rmse_cf = sqrt(mean_squared_error(actual_ratings_cf, predictions_cf))\n",
    "    print(f\"\\nEvaluation Metrics (User-based CF):\")\n",
    "    print(f\"  RMSE (Root Mean Squared Error): {rmse_cf}\")\n",
    "else:\n",
    "    print(\"\\nNo valid predictions could be made for User-based CF evaluation. This might happen if test users/movies are not in training data or not enough similar users exist.\")\n"
   ]
  },
  {
   "cell_type": "markdown",
   "id": "f0305489-192f-40fa-a077-6b10a15baa5f",
   "metadata": {},
   "source": [
    "An RMSE of approximately 0.97 indicates that, on average, the User-Based CF model's predicted movie ratings deviate from the actual user ratings by about 0.97 rating points. This is a good performance, suggesting the model is reasonably accurate in its predictions.It is better than the previous two models of KNN and Linear Regression."
   ]
  },
  {
   "cell_type": "markdown",
   "id": "78e17b8f-8063-49e0-98e3-5dd381e538a8",
   "metadata": {},
   "source": [
    "#### Key Findings (RMSE):\n",
    "- User-based Collaborative Filtering: Achieved an RMSE of approximately 0.9690.\n",
    "- K-Nearest Neighbors Regressor (Tuned): Demonstrated strong performance with an RMSE of approximately 0.9809 (clipped).\n",
    "- Linear Regression: Served as a baseline with an RMSE of approximately 1.0466 (clipped).\n",
    "The lower RMSE values indicate better predictive accuracy, with User-based CF and tuned KNN generally outperforming simple Linear Regression for this dataset."
   ]
  },
  {
   "cell_type": "code",
   "execution_count": null,
   "id": "1bb3e8d8-b13c-4f4a-a9fb-e293c08562f4",
   "metadata": {},
   "outputs": [],
   "source": []
  }
 ],
 "metadata": {
  "kernelspec": {
   "display_name": "Python 3 (ipykernel)",
   "language": "python",
   "name": "python3"
  },
  "language_info": {
   "codemirror_mode": {
    "name": "ipython",
    "version": 3
   },
   "file_extension": ".py",
   "mimetype": "text/x-python",
   "name": "python",
   "nbconvert_exporter": "python",
   "pygments_lexer": "ipython3",
   "version": "3.9.13"
  }
 },
 "nbformat": 4,
 "nbformat_minor": 5
}
